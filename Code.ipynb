{
  "nbformat": 4,
  "nbformat_minor": 0,
  "metadata": {
    "colab": {
      "provenance": [],
      "include_colab_link": true
    },
    "kernelspec": {
      "name": "python3",
      "display_name": "Python 3"
    },
    "language_info": {
      "name": "python"
    }
  },
  "cells": [
    {
      "cell_type": "markdown",
      "metadata": {
        "id": "view-in-github",
        "colab_type": "text"
      },
      "source": [
        "<a href=\"https://colab.research.google.com/github/NandanPatel24/Duality_QHMO/blob/main/Code.ipynb\" target=\"_parent\"><img src=\"https://colab.research.google.com/assets/colab-badge.svg\" alt=\"Open In Colab\"/></a>"
      ]
    },
    {
      "cell_type": "code",
      "execution_count": 6,
      "metadata": {
        "colab": {
          "base_uri": "https://localhost:8080/",
          "height": 356
        },
        "id": "yn0dZ4D6oJQL",
        "outputId": "54078be0-4110-4720-f1e3-ff36102ca066"
      },
      "outputs": [
        {
          "output_type": "execute_result",
          "data": {
            "text/plain": [
              "                                                                         »\n",
              "q_0: ─────■───────────■──────────────────────────────────────────────────»\n",
              "     ┌────┴─────┐┌────┴─────┐                                            »\n",
              "q_1: ┤0         ├┤0         ├─────■──────────■──────────■──────────■─────»\n",
              "     │          ││          │     │          │          │          │     »\n",
              "q_2: ┤1 Unitary ├┤1 Unitary ├─────┼──────────┼──────────┼──────────┼─────»\n",
              "     │          ││          │┌────┴────┐┌────┴────┐┌────┴────┐┌────┴────┐»\n",
              "q_3: ┤2         ├┤2         ├┤ Unitary ├┤ Unitary ├┤ Unitary ├┤ Unitary ├»\n",
              "     └──────────┘└──────────┘└─────────┘└─────────┘└─────────┘└─────────┘»\n",
              "c: 2/════════════════════════════════════════════════════════════════════»\n",
              "                                                                         »\n",
              "«                            ░       \n",
              "«q_0: ─────■──────────■──────░───────\n",
              "«     ┌────┴────┐┌────┴────┐ ░       \n",
              "«q_1: ┤ Unitary ├┤ Unitary ├─░───────\n",
              "«     └─────────┘└─────────┘ ░ ┌─┐   \n",
              "«q_2: ───────────────────────░─┤M├───\n",
              "«                            ░ └╥┘┌─┐\n",
              "«q_3: ───────────────────────░──╫─┤M├\n",
              "«                            ░  ║ └╥┘\n",
              "«c: 2/══════════════════════════╩══╩═\n",
              "«                               0  1 "
            ],
            "text/html": [
              "<pre style=\"word-wrap: normal;white-space: pre;background: #fff0;line-height: 1.1;font-family: &quot;Courier New&quot;,Courier,monospace\">                                                                         »\n",
              "q_0: ─────■───────────■──────────────────────────────────────────────────»\n",
              "     ┌────┴─────┐┌────┴─────┐                                            »\n",
              "q_1: ┤0         ├┤0         ├─────■──────────■──────────■──────────■─────»\n",
              "     │          ││          │     │          │          │          │     »\n",
              "q_2: ┤1 Unitary ├┤1 Unitary ├─────┼──────────┼──────────┼──────────┼─────»\n",
              "     │          ││          │┌────┴────┐┌────┴────┐┌────┴────┐┌────┴────┐»\n",
              "q_3: ┤2         ├┤2         ├┤ Unitary ├┤ Unitary ├┤ Unitary ├┤ Unitary ├»\n",
              "     └──────────┘└──────────┘└─────────┘└─────────┘└─────────┘└─────────┘»\n",
              "c: 2/════════════════════════════════════════════════════════════════════»\n",
              "                                                                         »\n",
              "«                            ░       \n",
              "«q_0: ─────■──────────■──────░───────\n",
              "«     ┌────┴────┐┌────┴────┐ ░       \n",
              "«q_1: ┤ Unitary ├┤ Unitary ├─░───────\n",
              "«     └─────────┘└─────────┘ ░ ┌─┐   \n",
              "«q_2: ───────────────────────░─┤M├───\n",
              "«                            ░ └╥┘┌─┐\n",
              "«q_3: ───────────────────────░──╫─┤M├\n",
              "«                            ░  ║ └╥┘\n",
              "«c: 2/══════════════════════════╩══╩═\n",
              "«                               0  1 </pre>"
            ]
          },
          "metadata": {},
          "execution_count": 6
        }
      ],
      "source": [
        "# from qiskit import QuantumCircuit\n",
        "# from qiskit.circuit.library import UnitaryGate\n",
        "# from qiskit.circuit.library import UGate\n",
        "# from qiskit.circuit.library import RYGate\n",
        "# import numpy as np\n",
        "# qc = QuantumCircuit(4, 2)\n",
        "# VS1 = VS2= np.array([[1, 0],\n",
        "#                     [0, 1]])\n",
        "# I = np.array([[1, 0],\n",
        "#               [0, 1]])\n",
        "# PauliX = np.array([[0, 1],\n",
        "#               [1, 0]])\n",
        "\n",
        "# a1 = np.array([[0, 1],\n",
        "#               [-1, 0]])\n",
        "# a2 = np.array([[-1, 0],\n",
        "#               [0, -1]])\n",
        "# a3 = np.array([[0, -1],\n",
        "#                [1, 0]])\n",
        "# a4 = np.array([[1, 0],\n",
        "#               [0, 1]])\n",
        "\n",
        "# Uxvs1 = np.kron(I,I)\n",
        "# Uxvs1 = np.kron(Uxvs1,VS1)\n",
        "# Ubvs2 = np.kron(PauliX,PauliX)\n",
        "# Ubvs2 = np.kron(Ubvs2,VS2)\n",
        "\n",
        "# Control1 = UnitaryGate(Uxvs1)\n",
        "# Control2 = UnitaryGate(Ubvs2)\n",
        "\n",
        "# u1 = UnitaryGate(a1)\n",
        "# u2 = UnitaryGate(a2)\n",
        "# u3 = UnitaryGate(a3)\n",
        "# u4 = UnitaryGate(a4)\n",
        "# v1 = UnitaryGate(VS1)\n",
        "# v2 = UnitaryGate(VS2)\n",
        "\n",
        "\n",
        "# # Assuming you want to apply this gate to the first two qubits as a controlled operation\n",
        "# qc.append(Control1.control(1), [0, 1, 2, 3])\n",
        "# qc.append(Control2.control(1), [0, 1, 2, 3])# Control qubit 0, target qubits 1, 2, and 3\n",
        "# qc.append(u1.control(1),[1,3])\n",
        "# qc.append(u2.control(1),[1,3])\n",
        "# qc.append(u3.control(1),[1,3])\n",
        "# qc.append(u4.control(1),[1,3])\n",
        "# qc.append(v1.control(1),[0,1])\n",
        "# qc.append(v2.control(1),[0,1])\n",
        "\n",
        "# qc.barrier()\n",
        "\n",
        "# qc.measure([2,3],[0,1])\n",
        "\n",
        "\n",
        "# # Draw the circuit\n",
        "# qc.draw()"
      ]
    },
    {
      "cell_type": "code",
      "source": [
        "!pip install pylatexenc"
      ],
      "metadata": {
        "colab": {
          "base_uri": "https://localhost:8080/"
        },
        "id": "DeDmTn8crjLC",
        "outputId": "a39bd66d-a0e6-42be-b215-6618b21d2d1a"
      },
      "execution_count": 2,
      "outputs": [
        {
          "output_type": "stream",
          "name": "stdout",
          "text": [
            "Collecting pylatexenc\n",
            "  Downloading pylatexenc-2.10.tar.gz (162 kB)\n",
            "\u001b[?25l     \u001b[90m━━━━━━━━━━━━━━━━━━━━━━━━━━━━━━━━━━━━━━━━\u001b[0m \u001b[32m0.0/162.6 kB\u001b[0m \u001b[31m?\u001b[0m eta \u001b[36m-:--:--\u001b[0m\r\u001b[2K     \u001b[91m━━━━━━━━━━━━━━━━━━━━━━\u001b[0m\u001b[91m╸\u001b[0m\u001b[90m━━━━━━━━━━━━━━━━━\u001b[0m \u001b[32m92.2/162.6 kB\u001b[0m \u001b[31m3.6 MB/s\u001b[0m eta \u001b[36m0:00:01\u001b[0m\r\u001b[2K     \u001b[90m━━━━━━━━━━━━━━━━━━━━━━━━━━━━━━━━━━━━━━━━\u001b[0m \u001b[32m162.6/162.6 kB\u001b[0m \u001b[31m2.8 MB/s\u001b[0m eta \u001b[36m0:00:00\u001b[0m\n",
            "\u001b[?25h  Preparing metadata (setup.py) ... \u001b[?25l\u001b[?25hdone\n",
            "Building wheels for collected packages: pylatexenc\n",
            "  Building wheel for pylatexenc (setup.py) ... \u001b[?25l\u001b[?25hdone\n",
            "  Created wheel for pylatexenc: filename=pylatexenc-2.10-py3-none-any.whl size=136816 sha256=8af42302a7eaa2cebb4f6dfdf3252d2509a880009309cede71d39bfc0993a0ee\n",
            "  Stored in directory: /root/.cache/pip/wheels/d3/31/8b/e09b0386afd80cfc556c00408c9aeea5c35c4d484a9c762fd5\n",
            "Successfully built pylatexenc\n",
            "Installing collected packages: pylatexenc\n",
            "Successfully installed pylatexenc-2.10\n"
          ]
        }
      ]
    },
    {
      "cell_type": "code",
      "source": [
        "!pip install qiskit"
      ],
      "metadata": {
        "colab": {
          "base_uri": "https://localhost:8080/"
        },
        "id": "Ih99LhDyrMNK",
        "outputId": "3b06404d-544b-43a2-f1c3-0cfa4941d565"
      },
      "execution_count": 3,
      "outputs": [
        {
          "output_type": "stream",
          "name": "stdout",
          "text": [
            "Collecting qiskit\n",
            "  Downloading qiskit-1.2.4-cp38-abi3-manylinux_2_17_x86_64.manylinux2014_x86_64.whl.metadata (12 kB)\n",
            "Collecting rustworkx>=0.15.0 (from qiskit)\n",
            "  Downloading rustworkx-0.15.1-cp38-abi3-manylinux_2_17_x86_64.manylinux2014_x86_64.whl.metadata (9.9 kB)\n",
            "Requirement already satisfied: numpy<3,>=1.17 in /usr/local/lib/python3.10/dist-packages (from qiskit) (1.26.4)\n",
            "Requirement already satisfied: scipy>=1.5 in /usr/local/lib/python3.10/dist-packages (from qiskit) (1.13.1)\n",
            "Requirement already satisfied: sympy>=1.3 in /usr/local/lib/python3.10/dist-packages (from qiskit) (1.13.1)\n",
            "Collecting dill>=0.3 (from qiskit)\n",
            "  Downloading dill-0.3.9-py3-none-any.whl.metadata (10 kB)\n",
            "Requirement already satisfied: python-dateutil>=2.8.0 in /usr/local/lib/python3.10/dist-packages (from qiskit) (2.8.2)\n",
            "Collecting stevedore>=3.0.0 (from qiskit)\n",
            "  Downloading stevedore-5.3.0-py3-none-any.whl.metadata (2.3 kB)\n",
            "Requirement already satisfied: typing-extensions in /usr/local/lib/python3.10/dist-packages (from qiskit) (4.12.2)\n",
            "Collecting symengine<0.14,>=0.11 (from qiskit)\n",
            "  Downloading symengine-0.13.0-cp310-cp310-manylinux_2_17_x86_64.manylinux2014_x86_64.whl.metadata (1.2 kB)\n",
            "Requirement already satisfied: six>=1.5 in /usr/local/lib/python3.10/dist-packages (from python-dateutil>=2.8.0->qiskit) (1.16.0)\n",
            "Collecting pbr>=2.0.0 (from stevedore>=3.0.0->qiskit)\n",
            "  Downloading pbr-6.1.0-py2.py3-none-any.whl.metadata (3.4 kB)\n",
            "Requirement already satisfied: mpmath<1.4,>=1.1.0 in /usr/local/lib/python3.10/dist-packages (from sympy>=1.3->qiskit) (1.3.0)\n",
            "Downloading qiskit-1.2.4-cp38-abi3-manylinux_2_17_x86_64.manylinux2014_x86_64.whl (4.8 MB)\n",
            "\u001b[2K   \u001b[90m━━━━━━━━━━━━━━━━━━━━━━━━━━━━━━━━━━━━━━━━\u001b[0m \u001b[32m4.8/4.8 MB\u001b[0m \u001b[31m40.9 MB/s\u001b[0m eta \u001b[36m0:00:00\u001b[0m\n",
            "\u001b[?25hDownloading dill-0.3.9-py3-none-any.whl (119 kB)\n",
            "\u001b[2K   \u001b[90m━━━━━━━━━━━━━━━━━━━━━━━━━━━━━━━━━━━━━━━━\u001b[0m \u001b[32m119.4/119.4 kB\u001b[0m \u001b[31m6.3 MB/s\u001b[0m eta \u001b[36m0:00:00\u001b[0m\n",
            "\u001b[?25hDownloading rustworkx-0.15.1-cp38-abi3-manylinux_2_17_x86_64.manylinux2014_x86_64.whl (2.0 MB)\n",
            "\u001b[2K   \u001b[90m━━━━━━━━━━━━━━━━━━━━━━━━━━━━━━━━━━━━━━━━\u001b[0m \u001b[32m2.0/2.0 MB\u001b[0m \u001b[31m40.7 MB/s\u001b[0m eta \u001b[36m0:00:00\u001b[0m\n",
            "\u001b[?25hDownloading stevedore-5.3.0-py3-none-any.whl (49 kB)\n",
            "\u001b[2K   \u001b[90m━━━━━━━━━━━━━━━━━━━━━━━━━━━━━━━━━━━━━━━━\u001b[0m \u001b[32m49.7/49.7 kB\u001b[0m \u001b[31m2.3 MB/s\u001b[0m eta \u001b[36m0:00:00\u001b[0m\n",
            "\u001b[?25hDownloading symengine-0.13.0-cp310-cp310-manylinux_2_17_x86_64.manylinux2014_x86_64.whl (49.7 MB)\n",
            "\u001b[2K   \u001b[90m━━━━━━━━━━━━━━━━━━━━━━━━━━━━━━━━━━━━━━━━\u001b[0m \u001b[32m49.7/49.7 MB\u001b[0m \u001b[31m14.7 MB/s\u001b[0m eta \u001b[36m0:00:00\u001b[0m\n",
            "\u001b[?25hDownloading pbr-6.1.0-py2.py3-none-any.whl (108 kB)\n",
            "\u001b[2K   \u001b[90m━━━━━━━━━━━━━━━━━━━━━━━━━━━━━━━━━━━━━━━━\u001b[0m \u001b[32m108.5/108.5 kB\u001b[0m \u001b[31m4.8 MB/s\u001b[0m eta \u001b[36m0:00:00\u001b[0m\n",
            "\u001b[?25hInstalling collected packages: symengine, rustworkx, pbr, dill, stevedore, qiskit\n",
            "Successfully installed dill-0.3.9 pbr-6.1.0 qiskit-1.2.4 rustworkx-0.15.1 stevedore-5.3.0 symengine-0.13.0\n"
          ]
        }
      ]
    },
    {
      "cell_type": "code",
      "source": [
        "!pip install qiskit-aer"
      ],
      "metadata": {
        "colab": {
          "base_uri": "https://localhost:8080/"
        },
        "id": "eMadTewW2XLA",
        "outputId": "5ea38ca2-f2b9-4a20-b776-51a16e117401"
      },
      "execution_count": 4,
      "outputs": [
        {
          "output_type": "stream",
          "name": "stdout",
          "text": [
            "Collecting qiskit-aer\n",
            "  Downloading qiskit_aer-0.15.1-cp310-cp310-manylinux_2_17_x86_64.manylinux2014_x86_64.whl.metadata (8.0 kB)\n",
            "Requirement already satisfied: qiskit>=1.1.0 in /usr/local/lib/python3.10/dist-packages (from qiskit-aer) (1.2.4)\n",
            "Requirement already satisfied: numpy>=1.16.3 in /usr/local/lib/python3.10/dist-packages (from qiskit-aer) (1.26.4)\n",
            "Requirement already satisfied: scipy>=1.0 in /usr/local/lib/python3.10/dist-packages (from qiskit-aer) (1.13.1)\n",
            "Requirement already satisfied: psutil>=5 in /usr/local/lib/python3.10/dist-packages (from qiskit-aer) (5.9.5)\n",
            "Requirement already satisfied: rustworkx>=0.15.0 in /usr/local/lib/python3.10/dist-packages (from qiskit>=1.1.0->qiskit-aer) (0.15.1)\n",
            "Requirement already satisfied: sympy>=1.3 in /usr/local/lib/python3.10/dist-packages (from qiskit>=1.1.0->qiskit-aer) (1.13.1)\n",
            "Requirement already satisfied: dill>=0.3 in /usr/local/lib/python3.10/dist-packages (from qiskit>=1.1.0->qiskit-aer) (0.3.9)\n",
            "Requirement already satisfied: python-dateutil>=2.8.0 in /usr/local/lib/python3.10/dist-packages (from qiskit>=1.1.0->qiskit-aer) (2.8.2)\n",
            "Requirement already satisfied: stevedore>=3.0.0 in /usr/local/lib/python3.10/dist-packages (from qiskit>=1.1.0->qiskit-aer) (5.3.0)\n",
            "Requirement already satisfied: typing-extensions in /usr/local/lib/python3.10/dist-packages (from qiskit>=1.1.0->qiskit-aer) (4.12.2)\n",
            "Requirement already satisfied: symengine<0.14,>=0.11 in /usr/local/lib/python3.10/dist-packages (from qiskit>=1.1.0->qiskit-aer) (0.13.0)\n",
            "Requirement already satisfied: six>=1.5 in /usr/local/lib/python3.10/dist-packages (from python-dateutil>=2.8.0->qiskit>=1.1.0->qiskit-aer) (1.16.0)\n",
            "Requirement already satisfied: pbr>=2.0.0 in /usr/local/lib/python3.10/dist-packages (from stevedore>=3.0.0->qiskit>=1.1.0->qiskit-aer) (6.1.0)\n",
            "Requirement already satisfied: mpmath<1.4,>=1.1.0 in /usr/local/lib/python3.10/dist-packages (from sympy>=1.3->qiskit>=1.1.0->qiskit-aer) (1.3.0)\n",
            "Downloading qiskit_aer-0.15.1-cp310-cp310-manylinux_2_17_x86_64.manylinux2014_x86_64.whl (12.3 MB)\n",
            "\u001b[2K   \u001b[90m━━━━━━━━━━━━━━━━━━━━━━━━━━━━━━━━━━━━━━━━\u001b[0m \u001b[32m12.3/12.3 MB\u001b[0m \u001b[31m57.7 MB/s\u001b[0m eta \u001b[36m0:00:00\u001b[0m\n",
            "\u001b[?25hInstalling collected packages: qiskit-aer\n",
            "Successfully installed qiskit-aer-0.15.1\n"
          ]
        }
      ]
    },
    {
      "cell_type": "code",
      "source": [
        "!python3 -m venv my_qiskit_env\n",
        "!source my_qiskit_env/bin/activate"
      ],
      "metadata": {
        "colab": {
          "base_uri": "https://localhost:8080/"
        },
        "id": "qFRqJmRcLXe9",
        "outputId": "8f8b7518-245c-4070-840d-1b433b7fa1d8"
      },
      "execution_count": 6,
      "outputs": [
        {
          "output_type": "stream",
          "name": "stdout",
          "text": [
            "The virtual environment was not created successfully because ensurepip is not\n",
            "available.  On Debian/Ubuntu systems, you need to install the python3-venv\n",
            "package using the following command.\n",
            "\n",
            "    apt install python3.10-venv\n",
            "\n",
            "You may need to use sudo with that command.  After installing the python3-venv\n",
            "package, recreate your virtual environment.\n",
            "\n",
            "Failing command: /content/my_qiskit_env/bin/python3\n",
            "\n",
            "/bin/bash: line 1: my_qiskit_env/bin/activate: No such file or directory\n"
          ]
        }
      ]
    },
    {
      "cell_type": "code",
      "source": [
        "from qiskit import QuantumCircuit, transpile\n",
        "from qiskit.circuit.library import UnitaryGate\n",
        "from qiskit_aer import Aer\n",
        "from qiskit.circuit.library import RYGate\n",
        "from qiskit.visualization import plot_histogram\n",
        "import numpy as np\n",
        "from math import pi\n",
        "# Create a quantum circuit with 4 qubits and 2 classical bits\n",
        "qc = QuantumCircuit(4, 2)\n",
        "\n",
        "# Define the calculated VS1 matrix with the C_m values for k = 4\n",
        "t = 1  # You can set this to any desired value of t\n",
        "C = np.sqrt(1 + t)  # Normalization constant\n",
        "\n",
        "# Define the first column of VS1 matrix\n",
        "col_1 = np.array([1, np.sqrt(t)]) / C\n",
        "\n",
        "# Initialize empty VS1 matrix (5x5 in this case)\n",
        "vs1_matrix = np.zeros((2, 2))\n",
        "vs1_matrix[:, 0] = col_1  # First column is already known\n",
        "\n",
        "# Apply Gram-Schmidt process for the remaining columns\n",
        "def gram_schmidt_process(vectors):\n",
        "    \"\"\"Apply Gram-Schmidt process to a set of vectors to make them orthonormal.\"\"\"\n",
        "    ortho_vectors = []\n",
        "    for v in vectors:\n",
        "        for u in ortho_vectors:\n",
        "            v = v - np.dot(v, u) * u  # Subtract projection\n",
        "        v = v / np.linalg.norm(v)  # Normalize\n",
        "        ortho_vectors.append(v)\n",
        "    return np.array(ortho_vectors)\n",
        "\n",
        "# Random vectors to orthogonalize\n",
        "random_vectors = np.random.rand(2, 1)  # Four random columns\n",
        "\n",
        "# Add the first column to the list for Gram-Schmidt\n",
        "vectors_to_orthogonalize = np.column_stack((vs1_matrix[:, 0], random_vectors))\n",
        "\n",
        "# Apply Gram-Schmidt to these vectors\n",
        "orthonormal_vectors = gram_schmidt_process(vectors_to_orthogonalize.T)\n",
        "\n",
        "# Update the VS1 matrix with orthonormalized vectors\n",
        "vs1_matrix = orthonormal_vectors.T\n",
        "\n",
        "print(vs1_matrix)\n",
        "VS1=vs1_matrix\n",
        "\n",
        "# VS1 = np.array([[1/C], [np.sqrt(t)/C], [t/np.sqrt(2)/C], [t**(3/2)/np.sqrt(6)/C], [t**2/np.sqrt(24)/C]])\n",
        "\n",
        "# VS2 is the same as VS1 for now based on the problem description\n",
        "VS2 = 0\n",
        "\n",
        "# Define other matrices used in the circuit\n",
        "I = np.array([[1, 0], [0, 1]])\n",
        "PauliX = np.array([[0, 1], [1, 0]])\n",
        "\n",
        " # Define the Unitary operations (a1, a2, a3, a4) for the circuit\n",
        "a1 = np.array([[0, 1], [-1, 0]])\n",
        "a2 = np.array([[-1, 0], [0, -1]])\n",
        "a3 = np.array([[0, -1], [1, 0]])\n",
        "a4 = np.array([[1, 0], [0, 1]])\n",
        "\n",
        " # Tensor products to create Uxvs1 and Ubvs2\n",
        "Uxvs1 = np.kron(np.kron(I, I), VS1)\n",
        "\n",
        " # Create unitary gates for the control operations\n",
        "Control1 = UnitaryGate(Uxvs1)\n",
        "\n",
        " # Define the unitary gates for a1, a2, a3, a4, VS1, and VS2\n",
        "u1 = UnitaryGate(a1)\n",
        "u2 = UnitaryGate(a2)\n",
        "u3 = UnitaryGate(a3)\n",
        "u4 = UnitaryGate(a4)\n",
        "v1 = UnitaryGate(VS1)\n",
        "def adjoint_matrix(matrix):\n",
        "  \"\"\"Calculates the adjoint (adjugate) of a matrix.\n",
        "\n",
        "  Args:\n",
        "    matrix: The input matrix (NumPy array).\n",
        "\n",
        "  Returns:\n",
        "    The adjoint matrix (NumPy array).\n",
        "  \"\"\"\n",
        "\n",
        "  num_rows, num_cols = matrix.shape\n",
        "  if num_rows != num_cols:\n",
        "    raise ValueError(\"Input matrix must be square.\")\n",
        "\n",
        "  adjoint = np.zeros_like(matrix, dtype=matrix.dtype)\n",
        "  for i in range(num_rows):\n",
        "    for j in range(num_cols):\n",
        "      minor = np.delete(np.delete(matrix, i, axis=0), j, axis=1)\n",
        "      cofactor = (-1)**(i + j) * np.linalg.det(minor)\n",
        "      adjoint[j, i] = cofactor  # Note: Transpose is done here\n",
        "\n",
        "  return adjoint\n",
        "# Define the angles\n",
        "beta1 = 0.1 * np.pi  # for R^A_y\n",
        "beta2 = 0.1 * np.pi  # for R^B_y\n",
        "WS1 = adjoint_matrix(VS1)\n",
        "ws1 = UnitaryGate(WS1)\n",
        "print(WS1)\n",
        "V = np.array([[1, 0],\n",
        "              [0, -1]])\n",
        "v=UnitaryGate(V)\n",
        "W=adjoint_matrix(V)\n",
        "w=UnitaryGate(W)\n",
        " # Apply the gates to the circuit\n",
        "qc.append(v,[0])\n",
        "qc.ry(beta1, [2])\n",
        "qc.ry(beta2, [3])\n",
        "# qc.append(v1, [0, 1, 2])  # Controlled VS1\n",
        "qc.append(Control1.control(1), [0, 1, 2, 3])  # Controlled Uxvs1\n",
        "qc.append(u1.control(1), [1, 3])  # Controlled a1\n",
        "qc.append(u2.control(1), [1, 3])  # Controlled a2\n",
        "qc.append(u3.control(1), [1, 3])  # Controlled a3\n",
        "qc.append(u4.control(1), [1, 3])  # Controlled a4\n",
        "qc.append(ws1.control(1),[0, 1])\n",
        "qc.append(w,[0])\n",
        " # Add a barrier and measurement\n",
        "qc.barrier()\n",
        "qc.measure([2, 3], [0, 1])\n",
        "\n",
        " # Draw the circuit\n",
        "qc.draw()\n",
        "simulator = Aer.get_backend('qasm_simulator')\n",
        "# New method: Transpile and run the circuit\n",
        "new_circuit = transpile(qc, simulator)\n",
        "job = simulator.run(new_circuit)\n",
        "\n",
        "# Get the result and display it\n",
        "result = job.result()\n",
        "counts = result.get_counts(qc)\n",
        "print(f\"counts: {counts}\")\n",
        "plot_histogram(counts)"
      ],
      "metadata": {
        "colab": {
          "base_uri": "https://localhost:8080/",
          "height": 524
        },
        "id": "LCzd2sIRrTNc",
        "outputId": "39c572dd-01dc-4f3f-85f0-169b2aec592e"
      },
      "execution_count": 5,
      "outputs": [
        {
          "output_type": "stream",
          "name": "stdout",
          "text": [
            "[[ 0.70710678 -0.70710678]\n",
            " [ 0.70710678  0.70710678]]\n",
            "[[ 0.70710678  0.70710678]\n",
            " [-0.70710678  0.70710678]]\n",
            "counts: {'01': 26, '10': 21, '00': 977}\n"
          ]
        },
        {
          "output_type": "execute_result",
          "data": {
            "text/plain": [
              "<Figure size 640x480 with 1 Axes>"
            ],
            "image/png": "[encoded data removed]"
          },
          "metadata": {},
          "execution_count": 5
        }
      ]
    },
    {
      "cell_type": "code",
      "source": [
        "qc.draw()"
      ],
      "metadata": {
        "colab": {
          "base_uri": "https://localhost:8080/",
          "height": 356
        },
        "id": "Gpttw2MAFAnN",
        "outputId": "e02a39ea-bd29-4f98-a68f-3f8b86276a14"
      },
      "execution_count": 6,
      "outputs": [
        {
          "output_type": "execute_result",
          "data": {
            "text/plain": [
              "     ┌─────────┐                                                         »\n",
              "q_0: ┤ Unitary ├──────■──────────────────────────────────────────────────»\n",
              "     └─────────┘ ┌────┴─────┐                                            »\n",
              "q_1: ────────────┤0         ├─────■──────────■──────────■──────────■─────»\n",
              "     ┌──────────┐│          │     │          │          │          │     »\n",
              "q_2: ┤ Ry(π/10) ├┤1 Unitary ├─────┼──────────┼──────────┼──────────┼─────»\n",
              "     ├──────────┤│          │┌────┴────┐┌────┴────┐┌────┴────┐┌────┴────┐»\n",
              "q_3: ┤ Ry(π/10) ├┤2         ├┤ Unitary ├┤ Unitary ├┤ Unitary ├┤ Unitary ├»\n",
              "     └──────────┘└──────────┘└─────────┘└─────────┘└─────────┘└─────────┘»\n",
              "c: 2/════════════════════════════════════════════════════════════════════»\n",
              "                                                                         »\n",
              "«                ┌─────────┐ ░       \n",
              "«q_0: ─────■─────┤ Unitary ├─░───────\n",
              "«     ┌────┴────┐└─────────┘ ░       \n",
              "«q_1: ┤ Unitary ├────────────░───────\n",
              "«     └─────────┘            ░ ┌─┐   \n",
              "«q_2: ───────────────────────░─┤M├───\n",
              "«                            ░ └╥┘┌─┐\n",
              "«q_3: ───────────────────────░──╫─┤M├\n",
              "«                            ░  ║ └╥┘\n",
              "«c: 2/══════════════════════════╩══╩═\n",
              "«                               0  1 "
            ],
            "text/html": [
              "<pre style=\"word-wrap: normal;white-space: pre;background: #fff0;line-height: 1.1;font-family: &quot;Courier New&quot;,Courier,monospace\">     ┌─────────┐                                                         »\n",
              "q_0: ┤ Unitary ├──────■──────────────────────────────────────────────────»\n",
              "     └─────────┘ ┌────┴─────┐                                            »\n",
              "q_1: ────────────┤0         ├─────■──────────■──────────■──────────■─────»\n",
              "     ┌──────────┐│          │     │          │          │          │     »\n",
              "q_2: ┤ Ry(π/10) ├┤1 Unitary ├─────┼──────────┼──────────┼──────────┼─────»\n",
              "     ├──────────┤│          │┌────┴────┐┌────┴────┐┌────┴────┐┌────┴────┐»\n",
              "q_3: ┤ Ry(π/10) ├┤2         ├┤ Unitary ├┤ Unitary ├┤ Unitary ├┤ Unitary ├»\n",
              "     └──────────┘└──────────┘└─────────┘└─────────┘└─────────┘└─────────┘»\n",
              "c: 2/════════════════════════════════════════════════════════════════════»\n",
              "                                                                         »\n",
              "«                ┌─────────┐ ░       \n",
              "«q_0: ─────■─────┤ Unitary ├─░───────\n",
              "«     ┌────┴────┐└─────────┘ ░       \n",
              "«q_1: ┤ Unitary ├────────────░───────\n",
              "«     └─────────┘            ░ ┌─┐   \n",
              "«q_2: ───────────────────────░─┤M├───\n",
              "«                            ░ └╥┘┌─┐\n",
              "«q_3: ───────────────────────░──╫─┤M├\n",
              "«                            ░  ║ └╥┘\n",
              "«c: 2/══════════════════════════╩══╩═\n",
              "«                               0  1 </pre>"
            ]
          },
          "metadata": {},
          "execution_count": 6
        }
      ]
    },
    {
      "cell_type": "code",
      "source": [
        "import numpy as np\n",
        "from scipy.linalg import logm\n",
        "\n",
        "# Example matrices (these should be your actual unitary gates U1, U2, U3, U4)\n",
        "U1 = a1  # Example a1\n",
        "U2 = a2 # Example a2\n",
        "U3 = a3  # Example a3\n",
        "U4 = a4   # Example a4 (identity)\n",
        "\n",
        "# Multiply the matrices to get the total unitary U_total\n",
        "U_total = np.dot(U4, np.dot(U3, np.dot(U2, U1)))\n",
        "\n",
        "# Compute the Hamiltonian H from U_total\n",
        "t = 1  # Total time (for simplicity, we assume t = 1 here)\n",
        "H = (1j / t) * logm(U_total)\n",
        "\n",
        "# Display the Hamiltonian\n",
        "print(\"Hamiltonian H:\")\n",
        "print(H)\n",
        "print(np.real(H))  # Only keep the real part, as H should be Hermitian\n"
      ],
      "metadata": {
        "colab": {
          "base_uri": "https://localhost:8080/"
        },
        "id": "7FhGRRLEH1WB",
        "outputId": "b3d5ea3c-1929-4ff9-a467-1308e8229ea4"
      },
      "execution_count": 7,
      "outputs": [
        {
          "output_type": "stream",
          "name": "stdout",
          "text": [
            "Hamiltonian H:\n",
            "[[-3.14159265-2.94902991e-16j  0.        +0.00000000e+00j]\n",
            " [ 0.        +0.00000000e+00j -3.14159265-2.94902991e-16j]]\n",
            "[[-3.14159265  0.        ]\n",
            " [ 0.         -3.14159265]]\n"
          ]
        }
      ]
    },
    {
      "cell_type": "code",
      "source": [
        "import numpy as np\n",
        "from qiskit import QuantumCircuit\n",
        "from qiskit.circuit.library import RYGate\n",
        "from qiskit.quantum_info import Statevector, Operator\n",
        "\n",
        "# Pre-determined beta values\n",
        "beta1 = 0.1 * np.pi\n",
        "beta2 = 0.1 * np.pi\n",
        "\n",
        "# Define the Ry gates for the betas\n",
        "ry_beta1 = RYGate(beta1)\n",
        "ry_beta2 = RYGate(beta2)\n",
        "\n",
        "# Construct the initial state |00> ⊗ |phi>\n",
        "qc = QuantumCircuit(2)\n",
        "qc.ry(beta1, 0)  # Apply R_y(beta1) on qubit 0\n",
        "qc.ry(beta2, 1)  # Apply R_y(beta2) on qubit 1\n",
        "\n",
        "# Initial state prepared as |00> ⊗ |phi>\n",
        "initial_state = qc\n",
        "\n",
        "# Define the Unitary matrices a1, a2, a3, a4\n",
        "a1 = np.array([[0, 1], [-1, 0]])\n",
        "a2 = np.array([[-1, 0], [0, -1]])\n",
        "a3 = np.array([[0, -1], [1, 0]])\n",
        "a4 = np.array([[1, 0], [0, 1]])\n",
        "\n",
        "# Multiply the unitaries to get U_total\n",
        "U_total = np.dot(np.dot(np.dot(a4, a3), a2), a1)\n",
        "# Get the statevector of the initial state\n",
        "initial_statevector = Statevector(qc)\n",
        "# Adjust U_total to operate on 2 qubits using tensor product\n",
        "U_total_2qubits = np.kron(U_total, np.eye(2))  # Assuming U_total acts on the first qubit\n",
        "# Convert U_total_2qubits to an Operator object\n",
        "U_total_op = Operator(U_total_2qubits)\n",
        "# Apply the unitary to the initial statevector\n",
        "time_evolved_statevector = initial_statevector.evolve(U_total_op)\n",
        "# Display the time-evolved statevector\n",
        "print(\"Time-evolved state  \", time_evolved_statevector)\n",
        "# You can get the amplitudes if needed\n",
        "amplitudes = time_evolved_statevector.data\n",
        "print(\"Amplitudes:\", amplitudes)\n",
        "\n",
        "# Time evolution operator e^(-i H t) = U_total\n",
        "# Apply the unitary to the initial state\n",
        "# Note: We simulate time evolution using the pre-defined unitary\n",
        "# Apply the unitary U_total to |psi(0)>\n",
        "time_evolved_state = np.dot(U_total, initial_statevector.data[:2])\n",
        "\n",
        "# Display the time-evolved state\n",
        "print(\"Time-evolved state \", time_evolved_state)\n"
      ],
      "metadata": {
        "colab": {
          "base_uri": "https://localhost:8080/"
        },
        "id": "DNX02KZeRF8P",
        "outputId": "8761b191-e3ff-4401-9b16-55c0a40e59d9"
      },
      "execution_count": 8,
      "outputs": [
        {
          "output_type": "stream",
          "name": "stdout",
          "text": [
            "Time-evolved state   Statevector([-0.97552826+0.j, -0.1545085 +0.j, -0.1545085 +0.j,\n",
            "             -0.02447174+0.j],\n",
            "            dims=(2, 2))\n",
            "Amplitudes: [-0.97552826+0.j -0.1545085 +0.j -0.1545085 +0.j -0.02447174+0.j]\n",
            "Time-evolved state  [-0.97552826+0.j -0.1545085 +0.j]\n"
          ]
        }
      ]
    },
    {
      "cell_type": "code",
      "source": [
        "import numpy as np\n",
        "\n",
        "# Given time-evolved state |psi(t)>\n",
        "psi_t = np.array(time_evolved_statevector)\n",
        "\n",
        "# Compute the density matrix ρ_th = |psi(t)><psi(t)|\n",
        "rho_th = np.outer(psi_t, np.conjugate(psi_t))\n",
        "\n",
        "# Display the density matrix\n",
        "print(\"Density matrix ρ_th:\")\n",
        "print(rho_th)\n"
      ],
      "metadata": {
        "colab": {
          "base_uri": "https://localhost:8080/"
        },
        "id": "UhazKZO7Gsws",
        "outputId": "0224447d-636d-4bac-fc33-5680eecd49a5"
      },
      "execution_count": 9,
      "outputs": [
        {
          "output_type": "stream",
          "name": "stdout",
          "text": [
            "Density matrix ρ_th:\n",
            "[[9.51655382e-01+0.j 1.50727405e-01+0.j 1.50727405e-01+0.j\n",
            "  2.38728757e-02+0.j]\n",
            " [1.50727405e-01+0.j 2.38728757e-02+0.j 2.38728757e-02+0.j\n",
            "  3.78109206e-03+0.j]\n",
            " [1.50727405e-01+0.j 2.38728757e-02+0.j 2.38728757e-02+0.j\n",
            "  3.78109206e-03+0.j]\n",
            " [2.38728757e-02+0.j 3.78109206e-03+0.j 3.78109206e-03+0.j\n",
            "  5.98866149e-04+0.j]]\n"
          ]
        }
      ]
    },
    {
      "cell_type": "code",
      "source": [
        "!pip install cvxpy"
      ],
      "metadata": {
        "colab": {
          "base_uri": "https://localhost:8080/"
        },
        "id": "koSK5QzBKlv3",
        "outputId": "9da83d9f-1c49-4d5b-ff77-d9fc2c5f8910"
      },
      "execution_count": 10,
      "outputs": [
        {
          "output_type": "stream",
          "name": "stdout",
          "text": [
            "Requirement already satisfied: cvxpy in /usr/local/lib/python3.10/dist-packages (1.5.3)\n",
            "Requirement already satisfied: osqp>=0.6.2 in /usr/local/lib/python3.10/dist-packages (from cvxpy) (0.6.7.post3)\n",
            "Requirement already satisfied: ecos>=2 in /usr/local/lib/python3.10/dist-packages (from cvxpy) (2.0.14)\n",
            "Requirement already satisfied: clarabel>=0.5.0 in /usr/local/lib/python3.10/dist-packages (from cvxpy) (0.9.0)\n",
            "Requirement already satisfied: scs>=3.2.4.post1 in /usr/local/lib/python3.10/dist-packages (from cvxpy) (3.2.7)\n",
            "Requirement already satisfied: numpy>=1.15 in /usr/local/lib/python3.10/dist-packages (from cvxpy) (1.26.4)\n",
            "Requirement already satisfied: scipy>=1.1.0 in /usr/local/lib/python3.10/dist-packages (from cvxpy) (1.13.1)\n",
            "Requirement already satisfied: qdldl in /usr/local/lib/python3.10/dist-packages (from osqp>=0.6.2->cvxpy) (0.1.7.post4)\n"
          ]
        }
      ]
    },
    {
      "cell_type": "code",
      "source": [
        "import numpy as np\n",
        "import cvxpy as cp\n",
        "from qiskit.quantum_info import DensityMatrix\n",
        "\n",
        "# Simulated theoretical density matrix rho_th\n",
        "# (From your previous code, calculated as |psi(t)><psi(t)|)\n",
        "psi_t = np.array([-0.97552826+0.j, -0.1545085+0.j, -0.1545085+0.j, -0.02447174+0.j])\n",
        "rho_th = np.outer(psi_t, psi_t.conj())\n",
        "\n",
        "# Simulate noisy experimental density matrix rho_exp by adding small random noise\n",
        "noise_level = 0.05\n",
        "rho_exp = rho_th + noise_level * (np.random.rand(4, 4) - 0.5)\n",
        "rho_exp = (rho_exp + rho_exp.T.conj()) / 2  # Make Hermitian\n",
        "rho_exp /= np.trace(rho_exp)  # Normalize to trace 1\n",
        "\n",
        "# Define CVXPY variable for the density matrix\n",
        "rho_ml = cp.Variable((4, 4), complex=True)\n",
        "\n",
        "# Define the objective to minimize the Frobenius norm difference between rho_ml and rho_exp\n",
        "objective = cp.Minimize(cp.norm(rho_ml - rho_exp, \"fro\"))\n",
        "\n",
        "# Constraints: rho_ml must be positive semi-definite and trace 1\n",
        "constraints = [rho_ml >> 0, cp.trace(rho_ml) == 1]\n",
        "\n",
        "# Set up and solve the optimization problem\n",
        "prob = cp.Problem(objective, constraints)\n",
        "prob.solve()\n",
        "\n",
        "# Get the value of the maximum likelihood estimated density matrix\n",
        "rho_ml_value = rho_ml.value\n",
        "\n",
        "print(\"Maximum likelihood estimated density matrix ρ_ml:\")\n",
        "print(rho_ml_value)\n"
      ],
      "metadata": {
        "colab": {
          "base_uri": "https://localhost:8080/"
        },
        "id": "ZehmrTIGKUvj",
        "outputId": "755f3bbb-525f-495c-a006-c53e0dd280c1"
      },
      "execution_count": 11,
      "outputs": [
        {
          "output_type": "stream",
          "name": "stdout",
          "text": [
            "Maximum likelihood estimated density matrix ρ_ml:\n",
            "[[0.91771357+0.j 0.14626488+0.j 0.15270022+0.j 0.03579021+0.j]\n",
            " [0.14626488+0.j 0.03482995+0.j 0.02958761+0.j 0.00646198+0.j]\n",
            " [0.15270022+0.j 0.02958761+0.j 0.0278899 +0.j 0.00756769+0.j]\n",
            " [0.03579021+0.j 0.00646198+0.j 0.00756769+0.j 0.01956657+0.j]]\n"
          ]
        }
      ]
    },
    {
      "cell_type": "code",
      "source": [
        "import numpy as np\n",
        "\n",
        "# Assuming rho_th and rho_ml_value have been defined (as per previous code)\n",
        "\n",
        "# Calculate the trace of rho_th * rho_ml (numerator of fidelity)\n",
        "numerator = np.trace(np.dot(rho_th, rho_ml_value))\n",
        "\n",
        "# Calculate the traces of rho_th^2 and rho_ml^2 (denominator components of fidelity)\n",
        "trace_rho_th_squared = np.trace(np.dot(rho_th, rho_th))\n",
        "trace_rho_ml_squared = np.trace(np.dot(rho_ml_value, rho_ml_value))\n",
        "\n",
        "# Calculate the fidelity\n",
        "fidelity = numerator / np.sqrt(trace_rho_th_squared * trace_rho_ml_squared)\n",
        "\n",
        "print(\"Fidelity between ρ_th and ρ_ml:\", fidelity)\n"
      ],
      "metadata": {
        "colab": {
          "base_uri": "https://localhost:8080/"
        },
        "id": "0BXjkc0eEMA6",
        "outputId": "f514695f-31e3-4624-d5a7-7ecc2d1d2baa"
      },
      "execution_count": 12,
      "outputs": [
        {
          "output_type": "stream",
          "name": "stdout",
          "text": [
            "Fidelity between ρ_th and ρ_ml: (0.9994258802859561+0j)\n"
          ]
        }
      ]
    },
    {
      "cell_type": "code",
      "source": [
        "# import numpy as np\n",
        "\n",
        "# def gram_schmidt_columns(X):\n",
        "#     \"\"\"Applies the Gram-Schmidt process to a set of vectors (columns) X.\"\"\"\n",
        "#     Q, _ = np.linalg.qr(X)\n",
        "#     return Q\n",
        "\n",
        "# # Define the first column (already orthonormalized)\n",
        "# t = 1.0  # You can change 't' to any specific value you need\n",
        "# C = np.sqrt(1 + t + t**2/2 + t**3/6 + t**4/24)\n",
        "# v1 = np.array([1, np.sqrt(t), t/np.sqrt(2), t**(3/2)/np.sqrt(6), t**2/np.sqrt(24)]) / C\n",
        "\n",
        "# # Create additional linearly independent vectors for the Gram-Schmidt process\n",
        "# # These are random starting points for the Gram-Schmidt orthogonalization\n",
        "# v2 = np.array([0, 1, 2, 3, 4])\n",
        "# v3 = np.array([1, 0, 3, 2, 1])\n",
        "# v4 = np.array([4, 1, 0, 2, 3])\n",
        "# v5 = np.array([3, 4, 1, 0, 2])\n",
        "\n",
        "# # Stack the vectors together to form a matrix\n",
        "# V = np.column_stack([v1, v2, v3, v4, v5])\n",
        "\n",
        "# # Apply Gram-Schmidt to generate orthonormal columns\n",
        "# VS1 = gram_schmidt_columns(V)\n",
        "\n",
        "# # Output the resulting VS1 matrix\n",
        "# print(\"VS1 Matrix:\")\n",
        "# print(VS1)\n",
        "\n",
        "# # Check if the matrix is unitary\n",
        "# VS1_dagger = np.conjugate(VS1.T)\n",
        "# is_unitary = np.allclose(np.dot(VS1, VS1_dagger), np.eye(VS1.shape[0]))\n",
        "\n",
        "# print(f\"Is the VS1 matrix unitary? {is_unitary}\")\n"
      ],
      "metadata": {
        "colab": {
          "base_uri": "https://localhost:8080/"
        },
        "id": "ohi8_q592zy2",
        "outputId": "eb65e864-d747-41a0-f224-bc026d750883"
      },
      "execution_count": 8,
      "outputs": [
        {
          "output_type": "stream",
          "name": "stdout",
          "text": [
            "VS1 Matrix:\n",
            "[[-0.60764362 -0.34551001 -0.06173792  0.70675647  0.08986533]\n",
            " [-0.60764362 -0.13548516  0.57027984 -0.52546116 -0.10528286]\n",
            " [-0.42966892  0.17573723 -0.7104315  -0.39087464  0.35637781]\n",
            " [-0.24806947  0.48902069 -0.19438022  0.11125187 -0.80570445]\n",
            " [-0.12403473  0.76957248  0.35843096  0.24336371  0.45241015]]\n",
            "Is the VS1 matrix unitary? True\n"
          ]
        }
      ]
    },
    {
      "cell_type": "code",
      "source": [
        "import numpy as np\n",
        "import matplotlib.pyplot as plt\n",
        "\n",
        "# Define time parameters\n",
        "t = np.linspace(0, 3, 100)  # Time interval [0, 1] with 100 points\n",
        "\n",
        "# Harmonic oscillator solution\n",
        "y = np.cos(t) + np.sin(t)  # y(t)\n",
        "y_prime = -np.sin(t) + np.cos(t)  # Derivative y'(t)\n",
        "\n",
        "# Compute kinetic and potential energy\n",
        "KE = 0.5 * (y_prime ** 2)  # Kinetic Energy: 0.5 * (y'(t))^2\n",
        "PE = 0.5 * (y ** 2)  # Potential Energy: 0.5 * y^2(t)\n",
        "\n",
        "# Plot KE and PE over time\n",
        "plt.figure(figsize=(10, 6))\n",
        "plt.plot(t, KE, label='Kinetic Energy (KE)', color='blue')\n",
        "plt.plot(t, PE, label='Potential Energy (PE)', color='green')\n",
        "plt.plot(t, KE + PE, label='Total Energy', color='red', linestyle='--')\n",
        "plt.xlabel('Time')\n",
        "plt.ylabel('Energy')\n",
        "plt.title('Time Evolution of Kinetic and Potential Energy for a Harmonic Oscillator')\n",
        "plt.legend()\n",
        "plt.grid(True)\n",
        "plt.show()\n"
      ],
      "metadata": {
        "colab": {
          "base_uri": "https://localhost:8080/",
          "height": 564
        },
        "id": "jeg10SYtL0nX",
        "outputId": "ec822b7a-31a0-40d9-bb0c-70f64c4bcf30"
      },
      "execution_count": 2,
      "outputs": [
        {
          "output_type": "display_data",
          "data": {
            "text/plain": [
              "<Figure size 1000x600 with 1 Axes>"
            ],
            "image/png": "[encoded data removed]"
          },
          "metadata": {}
        }
      ]
    },
    {
      "cell_type": "code",
      "source": [],
      "metadata": {
        "id": "zN1lj9hsKwMg"
      },
      "execution_count": null,
      "outputs": []
    }
  ]
}